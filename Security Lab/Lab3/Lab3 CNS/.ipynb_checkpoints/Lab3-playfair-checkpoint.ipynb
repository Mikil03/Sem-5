{
 "cells": [
  {
   "cell_type": "code",
   "execution_count": 24,
   "id": "b16afa52",
   "metadata": {},
   "outputs": [],
   "source": [
    "import string"
   ]
  },
  {
   "cell_type": "code",
   "execution_count": 31,
   "id": "c8c68dea",
   "metadata": {},
   "outputs": [
    {
     "data": {
      "text/plain": [
       "'Checkpoint'"
      ]
     },
     "execution_count": 31,
     "metadata": {},
     "output_type": "execute_result"
    }
   ],
   "source": [
    "# plain = input('Enter plain text: ')\n",
    "plain = 'Checkpoint'\n",
    "plain"
   ]
  },
  {
   "cell_type": "code",
   "execution_count": 32,
   "id": "d9be3003",
   "metadata": {},
   "outputs": [
    {
     "data": {
      "text/plain": [
       "'checkpoint'"
      ]
     },
     "execution_count": 32,
     "metadata": {},
     "output_type": "execute_result"
    }
   ],
   "source": [
    "plain = plain.lower()\n",
    "plain"
   ]
  },
  {
   "cell_type": "code",
   "execution_count": 33,
   "id": "f4a8993c",
   "metadata": {},
   "outputs": [
    {
     "data": {
      "text/plain": [
       "'checkpoint'"
      ]
     },
     "execution_count": 33,
     "metadata": {},
     "output_type": "execute_result"
    }
   ],
   "source": [
    "plain = plain.replace(\" \",\"\")\n",
    "plain"
   ]
  },
  {
   "cell_type": "code",
   "execution_count": 34,
   "id": "037be183",
   "metadata": {},
   "outputs": [
    {
     "data": {
      "text/plain": [
       "'lab'"
      ]
     },
     "execution_count": 34,
     "metadata": {},
     "output_type": "execute_result"
    }
   ],
   "source": [
    "key = 'lab'\n",
    "key = key.lower()\n",
    "key = key.replace(\" \",\"\")\n",
    "key"
   ]
  },
  {
   "cell_type": "code",
   "execution_count": 75,
   "id": "7f256bad",
   "metadata": {},
   "outputs": [],
   "source": [
    "def playfair(plain,key):\n",
    "    \n",
    "    letters = string.ascii_lowercase\n",
    "    letters = list(letters)\n",
    "\n",
    "    \n",
    "    key_length = len(key)\n",
    "    array = [['' for i in range(5)]for j in range(5)]\n",
    "    \n",
    "    plainlist = list(plain)\n",
    "    keylist = list(key)\n",
    "    \n",
    "    kunique = []\n",
    "    element = letters\n",
    "          \n",
    "    for i in keylist:\n",
    "        if i in kunique:\n",
    "            continue\n",
    "        else:\n",
    "            kunique.append(i)\n",
    "            element.remove(i)\n",
    "    \n",
    "    row = 0\n",
    "    col = 0\n",
    "    for i in keylist:\n",
    "        if\n",
    "        array[row][col] = i\n",
    "        col += 1\n",
    "        if(row == 5):\n",
    "            break\n",
    "        if(col == 5):\n",
    "            col = 0\n",
    "            row += 1\n",
    "    \n",
    "    rem = key_length%5\n",
    "    quotient = key_length//5\n",
    "    \n",
    "    row = quotient   \n",
    "    col = rem\n",
    "    # fill remaining alphabets\n",
    "    for i in element:\n",
    "        array[row][col] = i\n",
    "        col += 1\n",
    "        if(row == 5):\n",
    "            break\n",
    "        if(col == 5):\n",
    "            col = 0\n",
    "            row += 1\n",
    "    print(array)"
   ]
  },
  {
   "cell_type": "code",
   "execution_count": 76,
   "id": "0c715c46",
   "metadata": {},
   "outputs": [
    {
     "ename": "IndexError",
     "evalue": "list index out of range",
     "output_type": "error",
     "traceback": [
      "\u001b[1;31m---------------------------------------------------------------------------\u001b[0m",
      "\u001b[1;31mIndexError\u001b[0m                                Traceback (most recent call last)",
      "Input \u001b[1;32mIn [76]\u001b[0m, in \u001b[0;36m<cell line: 1>\u001b[1;34m()\u001b[0m\n\u001b[1;32m----> 1\u001b[0m \u001b[43mplayfair\u001b[49m\u001b[43m(\u001b[49m\u001b[43mplain\u001b[49m\u001b[43m,\u001b[49m\u001b[38;5;124;43m'\u001b[39;49m\u001b[38;5;124;43mabcdefghijk\u001b[39;49m\u001b[38;5;124;43m'\u001b[39;49m\u001b[43m)\u001b[49m\n",
      "Input \u001b[1;32mIn [75]\u001b[0m, in \u001b[0;36mplayfair\u001b[1;34m(plain, key)\u001b[0m\n\u001b[0;32m     39\u001b[0m \u001b[38;5;66;03m# fill remaining alphabets\u001b[39;00m\n\u001b[0;32m     40\u001b[0m \u001b[38;5;28;01mfor\u001b[39;00m i \u001b[38;5;129;01min\u001b[39;00m element:\n\u001b[1;32m---> 41\u001b[0m     \u001b[43marray\u001b[49m\u001b[43m[\u001b[49m\u001b[43mrow\u001b[49m\u001b[43m]\u001b[49m[col] \u001b[38;5;241m=\u001b[39m i\n\u001b[0;32m     42\u001b[0m     col \u001b[38;5;241m+\u001b[39m\u001b[38;5;241m=\u001b[39m \u001b[38;5;241m1\u001b[39m\n\u001b[0;32m     43\u001b[0m     \u001b[38;5;28;01mif\u001b[39;00m(row \u001b[38;5;241m==\u001b[39m \u001b[38;5;241m5\u001b[39m):\n",
      "\u001b[1;31mIndexError\u001b[0m: list index out of range"
     ]
    }
   ],
   "source": [
    "playfair(plain,'abcdefghijk')"
   ]
  },
  {
   "cell_type": "code",
   "execution_count": null,
   "id": "6c7049f7",
   "metadata": {},
   "outputs": [],
   "source": []
  },
  {
   "cell_type": "code",
   "execution_count": null,
   "id": "af4a8694",
   "metadata": {},
   "outputs": [],
   "source": []
  }
 ],
 "metadata": {
  "kernelspec": {
   "display_name": "Python 3 (ipykernel)",
   "language": "python",
   "name": "python3"
  },
  "language_info": {
   "codemirror_mode": {
    "name": "ipython",
    "version": 3
   },
   "file_extension": ".py",
   "mimetype": "text/x-python",
   "name": "python",
   "nbconvert_exporter": "python",
   "pygments_lexer": "ipython3",
   "version": "3.10.6"
  }
 },
 "nbformat": 4,
 "nbformat_minor": 5
}
